{
 "cells": [
  {
   "cell_type": "code",
   "execution_count": 1,
   "id": "fc3163f1-fb84-4822-ab4c-364513306dce",
   "metadata": {},
   "outputs": [],
   "source": [
    "import yfinance as yf\n",
    "import pandas as pd \n",
    "from datetime import datetime, timedelta \n",
    "import numpy as np \n",
    "from scipy.optimize import minimize"
   ]
  },
  {
   "cell_type": "code",
   "execution_count": 2,
   "id": "6116da1d-32c0-4280-93f7-7c932a4880d0",
   "metadata": {},
   "outputs": [],
   "source": [
    "tickers = ['SPY','BND','GLD','QQQ','VTI']"
   ]
  },
  {
   "cell_type": "code",
   "execution_count": 3,
   "id": "8c89c11e-8800-4330-ac10-2154f23d2d6f",
   "metadata": {},
   "outputs": [],
   "source": [
    "end_date = datetime.today()"
   ]
  },
  {
   "cell_type": "code",
   "execution_count": 4,
   "id": "08e38e35-7073-449e-9505-c2d8c7048dd5",
   "metadata": {},
   "outputs": [],
   "source": [
    "start_date = end_date - timedelta(days = 5*365)"
   ]
  },
  {
   "cell_type": "code",
   "execution_count": 5,
   "id": "78000adb-4d3b-442f-a175-3a8b121f353c",
   "metadata": {},
   "outputs": [
    {
     "name": "stdout",
     "output_type": "stream",
     "text": [
      "2024-10-29 17:53:40.325000\n"
     ]
    }
   ],
   "source": [
    "print(end_date)"
   ]
  },
  {
   "cell_type": "code",
   "execution_count": 6,
   "id": "862d65fe-7080-491f-8d05-21d4b08dc37e",
   "metadata": {},
   "outputs": [],
   "source": [
    "adj_close_df = pd.DataFrame()"
   ]
  },
  {
   "cell_type": "code",
   "execution_count": 7,
   "id": "cb03251a-4e00-4393-bbe6-713eb7b212b3",
   "metadata": {},
   "outputs": [
    {
     "name": "stderr",
     "output_type": "stream",
     "text": [
      "[*********************100%***********************]  1 of 1 completed\n",
      "[*********************100%***********************]  1 of 1 completed\n",
      "[*********************100%***********************]  1 of 1 completed\n",
      "[*********************100%***********************]  1 of 1 completed\n",
      "[*********************100%***********************]  1 of 1 completed\n"
     ]
    }
   ],
   "source": [
    "for ticker in tickers :\n",
    "    data = yf.download(ticker,start = start_date, end = end_date)\n",
    "    adj_close_df[ticker] = data['Adj Close']"
   ]
  },
  {
   "cell_type": "code",
   "execution_count": 8,
   "id": "6a944939-ae1c-472e-a241-5ff0c36232d4",
   "metadata": {},
   "outputs": [
    {
     "name": "stdout",
     "output_type": "stream",
     "text": [
      "                   SPY        BND         GLD         QQQ         VTI\n",
      "Date                                                                 \n",
      "2019-10-31  280.790649  73.866882  142.429993  191.027786  142.581345\n",
      "2019-11-01  283.391907  73.801186  142.559998  192.762833  144.107224\n",
      "2019-11-04  284.530396  73.590973  142.149994  193.955048  144.634338\n",
      "2019-11-05  284.215820  73.336899  139.850006  194.061661  144.504868\n",
      "2019-11-06  284.280518  73.494591  140.449997  193.625488  144.440140\n",
      "...                ...        ...         ...         ...         ...\n",
      "2024-10-22  583.320007  73.370003  253.929993  495.959991  287.649994\n",
      "2024-10-23  577.989990  73.190002  250.869995  488.359985  285.049988\n",
      "2024-10-24  579.239990  73.309998  252.800003  492.320007  285.809998\n",
      "2024-10-25  579.039978  73.160004  253.320007  495.320007  285.540009\n",
      "2024-10-28  580.830017  73.070000  253.330002  495.399994  286.700012\n",
      "\n",
      "[1256 rows x 5 columns]\n"
     ]
    }
   ],
   "source": [
    "print(adj_close_df)"
   ]
  },
  {
   "cell_type": "code",
   "execution_count": 9,
   "id": "9b229175-72a7-49b8-a1ee-37e87b7002c4",
   "metadata": {},
   "outputs": [],
   "source": [
    "log_returns = np.log(adj_close_df.shift(1))"
   ]
  },
  {
   "cell_type": "code",
   "execution_count": 10,
   "id": "c31d0e74-b945-420f-919b-590559c2935a",
   "metadata": {},
   "outputs": [],
   "source": [
    "log_returns = log_returns.dropna()"
   ]
  },
  {
   "cell_type": "code",
   "execution_count": 11,
   "id": "298ea0dc-4834-4454-9b1c-c62facaba2d3",
   "metadata": {},
   "outputs": [],
   "source": [
    "cov_matrix = log_returns.cov()*252"
   ]
  },
  {
   "cell_type": "code",
   "execution_count": 12,
   "id": "b6c8578e-bb8e-41df-b279-471955c69241",
   "metadata": {},
   "outputs": [],
   "source": [
    "def standard_deviation (weights, cov_matrix):\n",
    "    variance = weights.T @cov_matrix @weights\n",
    "    return np.sqrt(variance )"
   ]
  },
  {
   "cell_type": "code",
   "execution_count": 13,
   "id": "c8935515-0314-4d2d-b44f-bf454f09ae9c",
   "metadata": {},
   "outputs": [],
   "source": [
    "def expected_return (weights, log_returns):\n",
    "    return np.sum(log_returns.mean()*weights)*252"
   ]
  },
  {
   "cell_type": "code",
   "execution_count": 14,
   "id": "6e326c21-9d59-4e4e-9716-4e23d3bf9d39",
   "metadata": {},
   "outputs": [],
   "source": [
    "def sharpe_ratio (weights, log_returns, cov_matrix, risk_free_rate):\n",
    "    return(standard_deviation (weights, cov_matrix) - risk_free_rate)/standard_deviation (weights, cov_matrix)"
   ]
  },
  {
   "cell_type": "code",
   "execution_count": 15,
   "id": "3254f552-6c6e-49dc-8076-ebb6494d8b27",
   "metadata": {},
   "outputs": [
    {
     "name": "stdout",
     "output_type": "stream",
     "text": [
      "0.037200000000000004\n"
     ]
    }
   ],
   "source": [
    "from fredapi import Fred\n",
    "\n",
    "fred = Fred(api_key='ef10cd18e3b416169d9a1ef4fcdbff46')\n",
    "ten_year_treasury_rate = fred.get_series_latest_release('GS10')/100\n",
    "\n",
    "risk_free_rate = ten_year_treasury_rate.iloc[-1]\n",
    "print(risk_free_rate)"
   ]
  },
  {
   "cell_type": "code",
   "execution_count": 16,
   "id": "d6411bcc-bf61-4c90-bd59-54e126d273a1",
   "metadata": {},
   "outputs": [],
   "source": [
    "def neg_sharpe_ratio(weights, log_returns, cov_matrix, risk_free_rate):\n",
    "    return -sharpe_ratio(weights, log_returns, cov_matrix, risk_free_rate)"
   ]
  },
  {
   "cell_type": "code",
   "execution_count": 17,
   "id": "54a48ad5-faff-46b4-9eb5-3cd5d9ad1035",
   "metadata": {},
   "outputs": [],
   "source": [
    "constraints = {'type': 'eq', 'fun': lambda weights: np.sum(weights) - 1}\n",
    "bounds = [(0, 0.5) for _ in range(len(tickers))]"
   ]
  },
  {
   "cell_type": "code",
   "execution_count": 18,
   "id": "b9d9ebf6-2a06-4677-9cff-71437ebfa852",
   "metadata": {},
   "outputs": [],
   "source": [
    "initial_weights = np.array([1/len(tickers)]*len(tickers))"
   ]
  },
  {
   "cell_type": "code",
   "execution_count": 19,
   "id": "21eab185-1d4a-4b5a-9bae-79cac921aef7",
   "metadata": {},
   "outputs": [],
   "source": [
    "optimized_results = minimize(neg_sharpe_ratio, initial_weights, args=(log_returns, cov_matrix, risk_free_rate), method='SLSQP', constraints=constraints, bounds=bounds)"
   ]
  },
  {
   "cell_type": "code",
   "execution_count": 20,
   "id": "d7e49150-1122-4681-a276-a7e0dd933736",
   "metadata": {},
   "outputs": [],
   "source": [
    "optimal_weights = optimized_results.x"
   ]
  },
  {
   "cell_type": "code",
   "execution_count": 21,
   "id": "e88037bf-173b-44c1-8af2-d3be75ecf66d",
   "metadata": {},
   "outputs": [
    {
     "name": "stdout",
     "output_type": "stream",
     "text": [
      "Optimal Weights:\n",
      "SPY: 0.2655\n",
      "BND: 0.0000\n",
      "GLD: 0.0000\n",
      "QQQ: 0.5000\n",
      "VTI: 0.2345\n",
      "Expected Annual Return: 1439.6128\n",
      "Expected Volatility: 3.4057\n",
      "Sharpe Ratio: 0.9891\n"
     ]
    }
   ],
   "source": [
    "print(\"Optimal Weights:\")\n",
    "for ticker, weight in zip(tickers, optimal_weights):\n",
    "    print(f\"{ticker}: {weight:.4f}\")\n",
    "\n",
    "optimal_portfolio_return = expected_return(optimal_weights, log_returns)\n",
    "optimal_portfolio_volatility = standard_deviation(optimal_weights, cov_matrix)\n",
    "optimal_sharpe_ratio = sharpe_ratio(optimal_weights, log_returns, cov_matrix, risk_free_rate)\n",
    "\n",
    "print(f\"Expected Annual Return: {optimal_portfolio_return:.4f}\")\n",
    "print(f\"Expected Volatility: {optimal_portfolio_volatility:.4f}\")\n",
    "print(f\"Sharpe Ratio: {optimal_sharpe_ratio:.4f}\")"
   ]
  },
  {
   "cell_type": "code",
   "execution_count": 22,
   "id": "daa848a1-d727-47bb-bd0a-75381b2d39d7",
   "metadata": {},
   "outputs": [
    {
     "data": {
      "image/png": "[encoded data removed]",
      "text/plain": [
       "<Figure size 1000x600 with 1 Axes>"
      ]
     },
     "metadata": {},
     "output_type": "display_data"
    }
   ],
   "source": [
    "import matplotlib.pyplot as plt\n",
    "\n",
    "plt.figure(figsize=(10, 6))\n",
    "plt.bar(tickers, optimal_weights)\n",
    "\n",
    "plt.xlabel('Assets')\n",
    "plt.ylabel('Optimal Weights')\n",
    "plt.title('Optimal Portfolio Weights')\n",
    "\n",
    "plt.show()"
   ]
  },
  {
   "cell_type": "code",
   "execution_count": null,
   "id": "3de22693-a276-45c2-b044-e49533cebb27",
   "metadata": {},
   "outputs": [],
   "source": []
  }
 ],
 "metadata": {
  "kernelspec": {
   "display_name": "Python 3",
   "language": "python",
   "name": "python3"
  },
  "language_info": {
   "codemirror_mode": {
    "name": "ipython",
    "version": 3
   },
   "file_extension": ".py",
   "mimetype": "text/x-python",
   "name": "python",
   "nbconvert_exporter": "python",
   "pygments_lexer": "ipython3",
   "version": "3.12.6"
  }
 },
 "nbformat": 4,
 "nbformat_minor": 5
}
